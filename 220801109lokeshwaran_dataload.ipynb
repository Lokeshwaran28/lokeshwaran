{
  "nbformat": 4,
  "nbformat_minor": 0,
  "metadata": {
    "colab": {
      "provenance": [],
      "authorship_tag": "ABX9TyM79v/DNYEop3vGOwrptVFZ",
      "include_colab_link": true
    },
    "kernelspec": {
      "name": "python3",
      "display_name": "Python 3"
    },
    "language_info": {
      "name": "python"
    }
  },
  "cells": [
    {
      "cell_type": "markdown",
      "metadata": {
        "id": "view-in-github",
        "colab_type": "text"
      },
      "source": [
        "<a href=\"https://colab.research.google.com/github/Lokeshwaran28/lokeshwaran/blob/main/220801109lokeshwaran_dataload.ipynb\" target=\"_parent\"><img src=\"https://colab.research.google.com/assets/colab-badge.svg\" alt=\"Open In Colab\"/></a>"
      ]
    },
    {
      "cell_type": "code",
      "execution_count": null,
      "metadata": {
        "colab": {
          "base_uri": "https://localhost:8080/"
        },
        "id": "-DCDlY8qGNIW",
        "outputId": "10895a29-29f7-4f50-89f6-fcfa4041e781"
      },
      "outputs": [
        {
          "output_type": "stream",
          "name": "stdout",
          "text": [
            "Get the table data:\n",
            "\n",
            "   s.no name   age  marks\n",
            "0     1  loke   20     96\n",
            "1     2   jai   20     86\n",
            "2     3  dass   20     98\n",
            "3     4  hari   20     94\n"
          ]
        }
      ],
      "source": [
        "import pandas as pd\n",
        "d=pd.read_excel (\"/content/Book1L.xlsx\")\n",
        "#Get the table data\n",
        "print(\"Get the table data:\\n\")\n",
        "print(d)\n"
      ]
    },
    {
      "cell_type": "code",
      "source": [
        "df=pd.DataFrame(d)\n",
        "print(df)\n",
        "print(\"\\n Get the column heading\\n\",df.columns)"
      ],
      "metadata": {
        "colab": {
          "base_uri": "https://localhost:8080/"
        },
        "id": "OpwtiGE8Liz4",
        "outputId": "6a5ee569-2071-49d7-bf14-d738cde93d0d"
      },
      "execution_count": null,
      "outputs": [
        {
          "output_type": "stream",
          "name": "stdout",
          "text": [
            "   s.no name   age  marks\n",
            "0     1  loke   20     96\n",
            "1     2   jai   20     86\n",
            "2     3  dass   20     98\n",
            "3     4  hari   20     94\n",
            "\n",
            " Get the column heading\n",
            " Index(['s.no', 'name ', 'age', 'marks'], dtype='object')\n"
          ]
        }
      ]
    },
    {
      "cell_type": "code",
      "source": [
        "print(\"\\n Get the Shape-(no.of rows,no.of columns)\\n\",df.shape)"
      ],
      "metadata": {
        "colab": {
          "base_uri": "https://localhost:8080/"
        },
        "id": "2nG4ju69M85o",
        "outputId": "038a7df5-eed7-433c-be0f-66ca54fc478f"
      },
      "execution_count": null,
      "outputs": [
        {
          "output_type": "stream",
          "name": "stdout",
          "text": [
            "\n",
            " Get the Shape-(no.of rows,no.of columns)\n",
            " (4, 4)\n"
          ]
        }
      ]
    },
    {
      "cell_type": "code",
      "source": [
        "print(\"\\n Get particular column values\\n\",df[\"marks\"])"
      ],
      "metadata": {
        "colab": {
          "base_uri": "https://localhost:8080/"
        },
        "id": "afWmpMOtNg54",
        "outputId": "77ee64b1-fdf3-43f7-8166-7906d411e436"
      },
      "execution_count": null,
      "outputs": [
        {
          "output_type": "stream",
          "name": "stdout",
          "text": [
            "\n",
            " Get particular column values\n",
            " 0    96\n",
            "1    86\n",
            "2    98\n",
            "3    94\n",
            "Name: marks, dtype: int64\n"
          ]
        }
      ]
    },
    {
      "cell_type": "code",
      "source": [
        "print(\"\\nGet the particular row values-through row number identification\\n\",df.loc[3])"
      ],
      "metadata": {
        "colab": {
          "base_uri": "https://localhost:8080/"
        },
        "id": "Q6M_bKOWN9GY",
        "outputId": "5fe13722-c2a5-446d-9720-21ce9005ff3c"
      },
      "execution_count": null,
      "outputs": [
        {
          "output_type": "stream",
          "name": "stdout",
          "text": [
            "\n",
            "Get the particular row values-through row number identification\n",
            " s.no        4\n",
            "name     hari\n",
            "age        20\n",
            "marks      94\n",
            "Name: 3, dtype: object\n"
          ]
        }
      ]
    },
    {
      "cell_type": "code",
      "source": [
        "print(\"\\nExtract/slice the table values-[including this row, excluding this row]\\n\",df[1:3])"
      ],
      "metadata": {
        "colab": {
          "base_uri": "https://localhost:8080/"
        },
        "id": "uwTvTizlO-Df",
        "outputId": "bc547b40-8b2d-464b-a365-2ceeb469d36a"
      },
      "execution_count": null,
      "outputs": [
        {
          "output_type": "stream",
          "name": "stdout",
          "text": [
            "\n",
            "Extract/slice the table values-[including this row, excluding this row]\n",
            "    s.no name   age  marks\n",
            "1     2   jai   20     86\n",
            "2     3  dass   20     98\n"
          ]
        }
      ]
    },
    {
      "cell_type": "code",
      "source": [
        "print(\"\\nGet the particular row values-through 'Roll number' identification\\n\",d.loc[d['marks']==86])"
      ],
      "metadata": {
        "colab": {
          "base_uri": "https://localhost:8080/"
        },
        "id": "r1-2SJX_Paq6",
        "outputId": "b59ac1ac-1df3-4103-d4d2-97a46fb07222"
      },
      "execution_count": null,
      "outputs": [
        {
          "output_type": "stream",
          "name": "stdout",
          "text": [
            "\n",
            "Get the particular row values-through 'Roll number' identification\n",
            "    s.no name   age  marks\n",
            "1     2   jai   20     86\n"
          ]
        }
      ]
    },
    {
      "cell_type": "code",
      "source": [
        "df=d['marks']/5\n",
        "print(\"\\nMake an average of total marks:\\n\",df)\n"
      ],
      "metadata": {
        "colab": {
          "base_uri": "https://localhost:8080/"
        },
        "id": "kbtDzlWPPoMM",
        "outputId": "cb083e56-537c-4126-92e4-636285366084"
      },
      "execution_count": null,
      "outputs": [
        {
          "output_type": "stream",
          "name": "stdout",
          "text": [
            "\n",
            "Make an average of total marks:\n",
            " 0    19.2\n",
            "1    17.2\n",
            "2    19.6\n",
            "3    18.8\n",
            "Name: marks, dtype: float64\n"
          ]
        }
      ]
    }
  ]
}